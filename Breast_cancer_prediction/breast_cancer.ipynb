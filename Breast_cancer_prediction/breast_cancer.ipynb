{
  "nbformat": 4,
  "nbformat_minor": 0,
  "metadata": {
    "colab": {
      "name": "breast_cancer.ipynb",
      "provenance": [],
      "collapsed_sections": []
    },
    "kernelspec": {
      "name": "python3",
      "display_name": "Python 3"
    },
    "language_info": {
      "name": "python"
    }
  },
  "cells": [
    {
      "cell_type": "code",
      "execution_count": null,
      "metadata": {
        "id": "ynBGvktgo98O"
      },
      "outputs": [],
      "source": [
        "import sklearn\n",
        "import numpy as np\n",
        "import pandas as pd\n",
        "from sklearn import svm\n",
        "from sklearn import datasets"
      ]
    },
    {
      "cell_type": "code",
      "source": [
        "cancer = datasets.load_breast_cancer()"
      ],
      "metadata": {
        "id": "oprTd7GxpBpC"
      },
      "execution_count": null,
      "outputs": []
    },
    {
      "cell_type": "code",
      "source": [
        "print(\"Features: \", cancer.feature_names)"
      ],
      "metadata": {
        "colab": {
          "base_uri": "https://localhost:8080/"
        },
        "id": "9V5q4hekpIpV",
        "outputId": "161d2c6a-6499-4f6b-f107-7adc7451a115"
      },
      "execution_count": null,
      "outputs": [
        {
          "output_type": "stream",
          "name": "stdout",
          "text": [
            "Features:  ['mean radius' 'mean texture' 'mean perimeter' 'mean area'\n",
            " 'mean smoothness' 'mean compactness' 'mean concavity'\n",
            " 'mean concave points' 'mean symmetry' 'mean fractal dimension'\n",
            " 'radius error' 'texture error' 'perimeter error' 'area error'\n",
            " 'smoothness error' 'compactness error' 'concavity error'\n",
            " 'concave points error' 'symmetry error' 'fractal dimension error'\n",
            " 'worst radius' 'worst texture' 'worst perimeter' 'worst area'\n",
            " 'worst smoothness' 'worst compactness' 'worst concavity'\n",
            " 'worst concave points' 'worst symmetry' 'worst fractal dimension']\n"
          ]
        }
      ]
    },
    {
      "cell_type": "code",
      "source": [
        "print(\"Labels: \", cancer.target_names)"
      ],
      "metadata": {
        "colab": {
          "base_uri": "https://localhost:8080/"
        },
        "id": "j7nRmS8spL7r",
        "outputId": "c0799f9f-2aad-47ea-95c7-32c015368792"
      },
      "execution_count": null,
      "outputs": [
        {
          "output_type": "stream",
          "name": "stdout",
          "text": [
            "Labels:  ['malignant' 'benign']\n"
          ]
        }
      ]
    },
    {
      "cell_type": "code",
      "source": [
        "x = cancer.data  # All of the features\n",
        "y = cancer.target  # All of the labels\n",
        "\n",
        "x_train, x_test, y_train, y_test = sklearn.model_selection.train_test_split(x, y, test_size=0.2)"
      ],
      "metadata": {
        "id": "ELrGIXbxpPAK"
      },
      "execution_count": null,
      "outputs": []
    },
    {
      "cell_type": "code",
      "source": [
        "print(x_train[:5], y_train[:5])"
      ],
      "metadata": {
        "colab": {
          "base_uri": "https://localhost:8080/"
        },
        "id": "ASaCG7KMpToG",
        "outputId": "79830c05-480e-4e3d-df3e-df6ab329ce3a"
      },
      "execution_count": null,
      "outputs": [
        {
          "output_type": "stream",
          "name": "stdout",
          "text": [
            "[[1.359e+01 1.784e+01 8.624e+01 5.723e+02 7.948e-02 4.052e-02 1.997e-02\n",
            "  1.238e-02 1.573e-01 5.520e-02 2.580e-01 1.166e+00 1.683e+00 2.222e+01\n",
            "  3.741e-03 5.274e-03 1.065e-02 5.044e-03 1.344e-02 1.126e-03 1.550e+01\n",
            "  2.610e+01 9.891e+01 7.391e+02 1.050e-01 7.622e-02 1.060e-01 5.185e-02\n",
            "  2.335e-01 6.263e-02]\n",
            " [1.727e+01 2.542e+01 1.124e+02 9.288e+02 8.331e-02 1.109e-01 1.204e-01\n",
            "  5.736e-02 1.467e-01 5.407e-02 5.100e-01 1.679e+00 3.283e+00 5.838e+01\n",
            "  8.109e-03 4.308e-02 4.942e-02 1.742e-02 1.594e-02 3.739e-03 2.038e+01\n",
            "  3.546e+01 1.328e+02 1.284e+03 1.436e-01 4.122e-01 5.036e-01 1.739e-01\n",
            "  2.500e-01 7.944e-02]\n",
            " [1.146e+01 1.816e+01 7.359e+01 4.031e+02 8.853e-02 7.694e-02 3.344e-02\n",
            "  1.502e-02 1.411e-01 6.243e-02 3.278e-01 1.059e+00 2.475e+00 2.293e+01\n",
            "  6.652e-03 2.652e-02 2.221e-02 7.807e-03 1.894e-02 3.411e-03 1.268e+01\n",
            "  2.161e+01 8.269e+01 4.898e+02 1.144e-01 1.789e-01 1.226e-01 5.509e-02\n",
            "  2.208e-01 7.638e-02]\n",
            " [2.018e+01 2.397e+01 1.437e+02 1.245e+03 1.286e-01 3.454e-01 3.754e-01\n",
            "  1.604e-01 2.906e-01 8.142e-02 9.317e-01 1.885e+00 8.649e+00 1.164e+02\n",
            "  1.038e-02 6.835e-02 1.091e-01 2.593e-02 7.895e-02 5.987e-03 2.337e+01\n",
            "  3.172e+01 1.703e+02 1.623e+03 1.639e-01 6.164e-01 7.681e-01 2.508e-01\n",
            "  5.440e-01 9.964e-02]\n",
            " [1.422e+01 2.785e+01 9.255e+01 6.239e+02 8.223e-02 1.039e-01 1.103e-01\n",
            "  4.408e-02 1.342e-01 6.129e-02 3.354e-01 2.324e+00 2.105e+00 2.996e+01\n",
            "  6.307e-03 2.845e-02 3.850e-02 1.011e-02 1.185e-02 3.589e-03 1.575e+01\n",
            "  4.054e+01 1.025e+02 7.640e+02 1.081e-01 2.426e-01 3.064e-01 8.219e-02\n",
            "  1.890e-01 7.796e-02]] [1 0 1 0 1]\n"
          ]
        }
      ]
    },
    {
      "cell_type": "code",
      "source": [
        "import sklearn\n",
        "from sklearn import datasets\n",
        "from sklearn import svm\n",
        "\n",
        "cancer = datasets.load_breast_cancer()\n",
        "\n",
        "print(cancer.feature_names)\n",
        "print(cancer.target_names)\n",
        "\n",
        "x = cancer.data\n",
        "y = cancer.target\n",
        "\n",
        "x_train, x_test, y_train, y_test = sklearn.model_selection.train_test_split(x, y, test_size=0.2)\n",
        "\n",
        "print(x_train, y_train)"
      ],
      "metadata": {
        "colab": {
          "base_uri": "https://localhost:8080/"
        },
        "id": "pqpAtcwDpWwh",
        "outputId": "d661be73-4686-4c78-92e1-598e631f3436"
      },
      "execution_count": null,
      "outputs": [
        {
          "output_type": "stream",
          "name": "stdout",
          "text": [
            "['mean radius' 'mean texture' 'mean perimeter' 'mean area'\n",
            " 'mean smoothness' 'mean compactness' 'mean concavity'\n",
            " 'mean concave points' 'mean symmetry' 'mean fractal dimension'\n",
            " 'radius error' 'texture error' 'perimeter error' 'area error'\n",
            " 'smoothness error' 'compactness error' 'concavity error'\n",
            " 'concave points error' 'symmetry error' 'fractal dimension error'\n",
            " 'worst radius' 'worst texture' 'worst perimeter' 'worst area'\n",
            " 'worst smoothness' 'worst compactness' 'worst concavity'\n",
            " 'worst concave points' 'worst symmetry' 'worst fractal dimension']\n",
            "['malignant' 'benign']\n",
            "[[2.110e+01 2.052e+01 1.381e+02 ... 2.280e-01 2.268e-01 7.425e-02]\n",
            " [1.706e+01 2.100e+01 1.118e+02 ... 1.827e-01 2.623e-01 7.599e-02]\n",
            " [1.018e+01 1.753e+01 6.512e+01 ... 5.575e-02 3.055e-01 8.797e-02]\n",
            " ...\n",
            " [1.082e+01 2.421e+01 6.889e+01 ... 3.264e-02 3.059e-01 7.626e-02]\n",
            " [1.243e+01 1.700e+01 7.860e+01 ... 2.832e-02 1.901e-01 5.932e-02]\n",
            " [1.678e+01 1.880e+01 1.093e+02 ... 1.474e-01 2.810e-01 7.228e-02]] [0 0 1 1 0 0 1 1 1 0 1 1 1 1 1 0 1 1 1 1 1 0 1 0 0 0 1 1 0 1 0 1 1 0 0 1 0\n",
            " 1 1 1 0 1 1 1 1 1 1 1 1 1 1 0 0 1 1 1 1 1 1 0 0 1 0 1 0 0 1 0 1 1 1 0 0 1\n",
            " 0 1 1 1 1 0 0 1 1 1 0 1 0 1 1 0 0 1 1 1 1 1 1 0 1 0 0 1 1 0 1 1 1 1 0 1 0\n",
            " 1 0 1 1 0 1 1 1 0 0 1 0 0 0 0 0 1 1 0 0 0 1 0 0 1 0 0 1 1 1 1 1 1 1 1 1 1\n",
            " 1 0 1 1 0 1 0 1 1 1 1 1 0 1 1 1 1 1 1 0 1 0 0 1 1 1 0 1 1 0 0 1 1 1 0 1 1\n",
            " 1 1 1 0 1 0 1 1 1 1 0 0 1 0 0 1 1 1 0 1 0 0 0 1 1 0 1 1 1 1 1 0 1 1 0 1 1\n",
            " 1 1 0 1 1 1 1 1 1 1 1 1 0 0 1 0 1 1 1 0 1 0 1 0 1 1 1 1 1 1 1 1 1 1 0 1 0\n",
            " 0 0 0 1 1 1 1 0 0 1 0 0 1 0 1 1 0 1 0 1 0 1 1 1 0 0 0 1 0 1 0 1 0 1 1 0 0\n",
            " 1 0 1 0 0 1 1 1 0 0 0 0 1 1 0 0 0 1 1 0 1 0 0 0 1 0 1 1 1 1 0 1 1 1 1 1 0\n",
            " 0 1 0 1 0 0 0 0 1 1 0 0 1 1 1 0 0 0 0 1 0 1 1 1 1 0 0 1 1 1 1 1 1 1 0 1 1\n",
            " 1 1 1 0 1 0 1 0 1 0 1 1 1 0 1 1 1 0 1 0 0 1 1 1 1 1 0 0 1 0 1 0 1 0 1 1 0\n",
            " 0 1 1 1 1 1 1 1 0 0 1 1 1 1 0 1 1 1 0 1 1 1 0 1 1 0 0 1 1 0 1 1 1 1 0 1 1\n",
            " 0 1 0 1 1 1 1 1 1 1 0]\n"
          ]
        }
      ]
    },
    {
      "cell_type": "code",
      "source": [
        "from sklearn.linear_model import LogisticRegression"
      ],
      "metadata": {
        "id": "pMVZwNowpaAt"
      },
      "execution_count": null,
      "outputs": []
    },
    {
      "cell_type": "code",
      "source": [
        "logmodel = LogisticRegression()\n",
        "logmodel.fit(x_train,y_train)"
      ],
      "metadata": {
        "colab": {
          "base_uri": "https://localhost:8080/"
        },
        "id": "GlFi_5WnqAo-",
        "outputId": "90e251b3-0af1-4e12-c54c-83027a1e6159"
      },
      "execution_count": null,
      "outputs": [
        {
          "output_type": "stream",
          "name": "stderr",
          "text": [
            "/usr/local/lib/python3.7/dist-packages/sklearn/linear_model/_logistic.py:818: ConvergenceWarning: lbfgs failed to converge (status=1):\n",
            "STOP: TOTAL NO. of ITERATIONS REACHED LIMIT.\n",
            "\n",
            "Increase the number of iterations (max_iter) or scale the data as shown in:\n",
            "    https://scikit-learn.org/stable/modules/preprocessing.html\n",
            "Please also refer to the documentation for alternative solver options:\n",
            "    https://scikit-learn.org/stable/modules/linear_model.html#logistic-regression\n",
            "  extra_warning_msg=_LOGISTIC_SOLVER_CONVERGENCE_MSG,\n"
          ]
        },
        {
          "output_type": "execute_result",
          "data": {
            "text/plain": [
              "LogisticRegression()"
            ]
          },
          "metadata": {},
          "execution_count": 10
        }
      ]
    },
    {
      "cell_type": "code",
      "source": [
        "predictions = logmodel.predict(x_test)"
      ],
      "metadata": {
        "id": "uqsByB7QqD7f"
      },
      "execution_count": null,
      "outputs": []
    },
    {
      "cell_type": "code",
      "source": [
        "from sklearn.metrics import classification_report"
      ],
      "metadata": {
        "id": "iTZ8A3qyqL6V"
      },
      "execution_count": null,
      "outputs": []
    },
    {
      "cell_type": "code",
      "source": [
        "print(classification_report(y_test,predictions))"
      ],
      "metadata": {
        "colab": {
          "base_uri": "https://localhost:8080/"
        },
        "id": "VLGv7aNqqP69",
        "outputId": "2bbce190-1504-4820-9c03-5f5300b65ad8"
      },
      "execution_count": null,
      "outputs": [
        {
          "output_type": "stream",
          "name": "stdout",
          "text": [
            "              precision    recall  f1-score   support\n",
            "\n",
            "           0       0.97      0.84      0.90        45\n",
            "           1       0.91      0.99      0.94        69\n",
            "\n",
            "    accuracy                           0.93       114\n",
            "   macro avg       0.94      0.91      0.92       114\n",
            "weighted avg       0.93      0.93      0.93       114\n",
            "\n"
          ]
        }
      ]
    },
    {
      "cell_type": "code",
      "source": [
        "from sklearn.svm import SVC"
      ],
      "metadata": {
        "id": "ldM8nQ1WqSU-"
      },
      "execution_count": null,
      "outputs": []
    },
    {
      "cell_type": "code",
      "source": [
        "svc_model = SVC()"
      ],
      "metadata": {
        "id": "gSJTkFPyqhBX"
      },
      "execution_count": null,
      "outputs": []
    },
    {
      "cell_type": "code",
      "source": [
        "svc_model.fit(x_train,y_train)"
      ],
      "metadata": {
        "colab": {
          "base_uri": "https://localhost:8080/"
        },
        "id": "ABMI_g7xqpDw",
        "outputId": "8b856a7f-0f9a-48de-b444-68a1c75f2bc5"
      },
      "execution_count": null,
      "outputs": [
        {
          "output_type": "execute_result",
          "data": {
            "text/plain": [
              "SVC()"
            ]
          },
          "metadata": {},
          "execution_count": 18
        }
      ]
    },
    {
      "cell_type": "code",
      "source": [
        "predictions = svc_model.predict(x_test)"
      ],
      "metadata": {
        "id": "WryG3trRqsd_"
      },
      "execution_count": null,
      "outputs": []
    },
    {
      "cell_type": "code",
      "source": [
        "from sklearn.metrics import classification_report,confusion_matrix"
      ],
      "metadata": {
        "id": "-MA3XT5Xqzf3"
      },
      "execution_count": null,
      "outputs": []
    },
    {
      "cell_type": "code",
      "source": [
        "print(confusion_matrix(y_test,predictions))"
      ],
      "metadata": {
        "colab": {
          "base_uri": "https://localhost:8080/"
        },
        "id": "mO1WrNxeq7hz",
        "outputId": "01a34c5c-dff7-4f6a-bb6e-1be7c9c08b84"
      },
      "execution_count": null,
      "outputs": [
        {
          "output_type": "stream",
          "name": "stdout",
          "text": [
            "[[35 10]\n",
            " [ 0 69]]\n"
          ]
        }
      ]
    },
    {
      "cell_type": "code",
      "source": [
        "print(classification_report(y_test,predictions))"
      ],
      "metadata": {
        "colab": {
          "base_uri": "https://localhost:8080/"
        },
        "id": "CntHnDjNrMgz",
        "outputId": "da34926b-489f-4c92-aee2-c795e15f89d6"
      },
      "execution_count": null,
      "outputs": [
        {
          "output_type": "stream",
          "name": "stdout",
          "text": [
            "              precision    recall  f1-score   support\n",
            "\n",
            "           0       1.00      0.78      0.88        45\n",
            "           1       0.87      1.00      0.93        69\n",
            "\n",
            "    accuracy                           0.91       114\n",
            "   macro avg       0.94      0.89      0.90       114\n",
            "weighted avg       0.92      0.91      0.91       114\n",
            "\n"
          ]
        }
      ]
    },
    {
      "cell_type": "code",
      "source": [
        ""
      ],
      "metadata": {
        "id": "n4H3GSmRrPjE"
      },
      "execution_count": null,
      "outputs": []
    }
  ]
}